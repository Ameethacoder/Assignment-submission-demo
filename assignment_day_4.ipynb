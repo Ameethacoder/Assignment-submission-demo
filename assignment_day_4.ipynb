{
  "nbformat": 4,
  "nbformat_minor": 0,
  "metadata": {
    "colab": {
      "name": "assignment day 4.ipynb",
      "provenance": []
    },
    "kernelspec": {
      "name": "python3",
      "display_name": "Python 3"
    },
    "language_info": {
      "name": "python"
    }
  },
  "cells": [
    {
      "cell_type": "code",
      "metadata": {
        "id": "hOcW39KJXjyw"
      },
      "source": [
        "feet = 1000\n",
        "\n",
        "if feet > 1000 :\n",
        "  print (\"Safe to land\")\n",
        "\n",
        "  elif feet >4500 and feet <= 6000:\n",
        "    print (\"Bring down to under 1000\")\n",
        "\n",
        "  else:\n",
        "    print (\"turn around\")"
      ],
      "execution_count": null,
      "outputs": []
    },
    {
      "cell_type": "code",
      "metadata": {
        "id": "pRgX-jBaYWap"
      },
      "source": [
        ""
      ],
      "execution_count": null,
      "outputs": []
    }
  ]
}